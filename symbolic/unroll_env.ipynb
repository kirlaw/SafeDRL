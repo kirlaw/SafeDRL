{
 "cells": [
  {
   "cell_type": "code",
   "execution_count": 1,
   "metadata": {
    "collapsed": true,
    "pycharm": {
     "is_executing": false
    }
   },
   "outputs": [],
   "source": [
    "import jsonpickle\n",
    "import numpy as np\n",
    "import mpmath\n",
    "from mpmath import iv\n",
    "from symbolic.cartpole_abstract import CartPoleEnv_abstract\n",
    "from verification_runs.cartpole_bab_load import generateCartpoleDomainExplorer"
   ]
  },
  {
   "cell_type": "code",
   "execution_count": 2,
   "outputs": [],
   "source": [
    "with open(\"../save/safe_domains.json\", 'r') as f:\n",
    "    frozen_safe = jsonpickle.decode(f.read())\n",
    "# with open(\"../save/unsafe_domains.json\", 'r') as f:\n",
    "#     frozen_unsafe = jsonpickle.decode(f.read())\n",
    "# with open(\"../save/ignore_domains.json\", 'r') as f:\n",
    "#     frozen_ignore = jsonpickle.decode(f.read())\n",
    "frozen_safe = np.stack(frozen_safe).take(range(10), axis=0)\n",
    "# frozen_unsafe = np.stack(frozen_unsafe)  # .take(range(10), axis=0)\n",
    "# frozen_ignore = np.stack(frozen_ignore)  # .take(range(10), axis=0)"
   ],
   "metadata": {
    "collapsed": false,
    "pycharm": {
     "name": "#%%\n",
     "is_executing": false
    }
   }
  },
  {
   "cell_type": "code",
   "execution_count": 3,
   "outputs": [],
   "source": [
    "env = CartPoleEnv_abstract()"
   ],
   "metadata": {
    "collapsed": false,
    "pycharm": {
     "name": "#%%\n",
     "is_executing": false
    }
   }
  },
  {
   "cell_type": "code",
   "execution_count": 4,
   "outputs": [],
   "source": [
    "def interval_unwrap(state):\n",
    "    unwrapped_state = tuple([[float(x.a), float(x.b)] for x in state])\n",
    "    return unwrapped_state\n"
   ],
   "metadata": {
    "collapsed": false,
    "pycharm": {
     "name": "#%%\n",
     "is_executing": false
    }
   }
  },
  {
   "cell_type": "code",
   "execution_count": 5,
   "outputs": [],
   "source": [
    "def step_state(state, action):\n",
    "    env.reset()\n",
    "    env.state = state\n",
    "    next_state, _, _, _ = env.step(action)\n",
    "    return tuple(next_state)\n"
   ],
   "metadata": {
    "collapsed": false,
    "pycharm": {
     "name": "#%%\n",
     "is_executing": false
    }
   }
  },
  {
   "cell_type": "code",
   "execution_count": 6,
   "outputs": [],
   "source": [
    "next_states = []\n",
    "for interval in frozen_safe:\n",
    "    state = tuple([iv.mpf([x.item(0), x.item(1)]) for x in interval])\n",
    "    next_state = step_state(state, 1)\n",
    "    unwrapped_next_state = interval_unwrap(next_state)\n",
    "    next_states.append(unwrapped_next_state)"
   ],
   "metadata": {
    "collapsed": false,
    "pycharm": {
     "name": "#%%\n",
     "is_executing": false
    }
   }
  },
  {
   "cell_type": "code",
   "execution_count": 7,
   "outputs": [
    {
     "name": "stdout",
     "text": [
      "([0.015, 0.52], [0.9284048477265038, 1.1819933783687089], [0.7549999999999999, 1.01], [0.25065339497650124, 0.603794661498451])\n([0.015, 0.52], [0.9285242866059016, 1.1822390070806543], [0.7599999999999999, 1.0150000000000001], [0.5003856966783815, 0.8536969287055857])\n([0.015, 0.52], [0.9287233514048978, 1.182582887277378], [0.7649999999999999, 1.02], [0.750010919061014, 1.1035340407174767])\n([0.015, 0.27], [0.9408294539596576, 1.195137036826784], [0.0, 0.255], [-0.29270555524017594, 0.04539122146617208])\n([0.015, 0.27], [0.9359604666797062, 1.1908585568813368], [0.25, 0.505], [-0.20465107580731254, 0.1461576142109768])\n([0.015, 0.27], [0.9408294539596576, 1.195182293648599], [0.005, 0.26], [-0.04277344047289816, 0.2953912214661721])\n([0.015, 0.27], [0.935975302770512, 1.1909458656463738], [0.25499999999999995, 0.51], [0.04522203237223449, 0.3961380843691102])\n([0.015, 0.27], [0.9317823840697175, 1.1860013425596678], [0.5, 0.755], [-0.1038961937282073, 0.2508974089737108])\n([0.26499999999999996, 0.52], [0.9317823840697175, 1.1860013425596678], [0.5, 0.755], [-0.1038961937282073, 0.2508974089737108])\n([0.015, 0.27], [0.9283650347667046, 1.1818460011415417], [0.75, 1.0050000000000001], [0.000814013955373127, 0.35382723909607267])\n"
     ],
     "output_type": "stream"
    }
   ],
   "source": [
    "for i in next_states:\n",
    "    print(i)\n",
    "\n",
    "next_states_array = np.array(next_states,dtype=np.float32) #turns the list in an array\n"
   ],
   "metadata": {
    "collapsed": false,
    "pycharm": {
     "name": "#%%\n",
     "is_executing": false
    }
   }
  },
  {
   "cell_type": "code",
   "execution_count": 8,
   "outputs": [
    {
     "name": "stdout",
     "text": [
      "Loading complete\n"
     ],
     "output_type": "stream"
    }
   ],
   "source": [
    "explorer, verification_model = generateCartpoleDomainExplorer()\n"
   ],
   "metadata": {
    "collapsed": false,
    "pycharm": {
     "name": "#%%\n",
     "is_executing": false
    }
   }
  },
  {
   "cell_type": "code",
   "execution_count": 9,
   "outputs": [
    {
     "name": "stderr",
     "text": [
      "2019-10-08 14:34:35,311\tWARNING worker.py:1438 -- WARNING: Not updating worker name since `setproctitle` is not installed. Install this with `pip install setproctitle` (or ray[debug]) to enable monitoring of worker processes.\n",
      "2019-10-08 14:34:35,317\tINFO resource_spec.py:205 -- Starting Ray with 10.94 GiB memory available for workers and up to 5.49 GiB for objects. You can adjust these settings with ray.remote(memory=<bytes>, object_store_memory=<bytes>).\n",
      "2019-10-08 14:34:36,383\tWARNING worker.py:351 -- WARNING: Falling back to serializing objects of type <class 'torch.nn.backends.thnn.THNNFunctionBackend'> by using pickle. This may be inefficient.\n"
     ],
     "output_type": "stream"
    },
    {
     "name": "stdout",
     "text": [
      "\rqueue length : 11, # safe domains: 0, abstract areas: [unknown:100.000% --> safe:0.000%, unsafe:0.000%, ignore:0.000%], shortest_dim:0.35314124822616577, min_area:0.005766\rqueue length : 12, # safe domains: 0, abstract areas: [unknown:100.000% --> safe:0.000%, unsafe:0.000%, ignore:0.000%], shortest_dim:0.35314124822616577, min_area:0.005766\rqueue length : 13, # safe domains: 0, abstract areas: [unknown:100.000% --> safe:0.000%, unsafe:0.000%, ignore:0.000%], shortest_dim:0.35314124822616577, min_area:0.005766\rqueue length : 14, # safe domains: 0, abstract areas: [unknown:100.000% --> safe:0.000%, unsafe:0.000%, ignore:0.000%], shortest_dim:0.2550000250339508, min_area:0.002795\rqueue length : 15, # safe domains: 0, abstract areas: [unknown:100.000% --> safe:0.000%, unsafe:0.000%, ignore:0.000%], shortest_dim:0.2550000250339508, min_area:0.002795\rqueue length : 16, # safe domains: 0, abstract areas: [unknown:100.000% --> safe:0.000%, unsafe:0.000%, ignore:0.000%], shortest_dim:0.2550000250339508, min_area:0.002795\rqueue length : 17, # safe domains: 0, abstract areas: [unknown:100.000% --> safe:0.000%, unsafe:0.000%, ignore:0.000%], shortest_dim:0.2550000250339508, min_area:0.002795\rqueue length : 18, # safe domains: 0, abstract areas: [unknown:100.000% --> safe:0.000%, unsafe:0.000%, ignore:0.000%], shortest_dim:0.2550000250339508, min_area:0.002795\rqueue length : 19, # safe domains: 0, abstract areas: [unknown:100.000% --> safe:0.000%, unsafe:0.000%, ignore:0.000%], shortest_dim:0.2549999952316284, min_area:0.002795\rqueue length : 20, # safe domains: 0, abstract areas: [unknown:100.000% --> safe:0.000%, unsafe:0.000%, ignore:0.000%], shortest_dim:0.2549999952316284, min_area:0.002795",
      "\u001b[2m\u001b[36m(pid=3710)\u001b[0m Academic license - for non-commercial use only\n\u001b[2m\u001b[36m(pid=3705)\u001b[0m Academic license - for non-commercial use only\n\u001b[2m\u001b[36m(pid=3711)\u001b[0m Academic license - for non-commercial use only\n\u001b[2m\u001b[36m(pid=3707)\u001b[0m Academic license - for non-commercial use only\n\u001b[2m\u001b[36m(pid=3706)\u001b[0m Academic license - for non-commercial use only\n\u001b[2m\u001b[36m(pid=3708)\u001b[0m Academic license - for non-commercial use only\n\u001b[2m\u001b[36m(pid=3704)\u001b[0m Academic license - for non-commercial use only\n\u001b[2m\u001b[36m(pid=3709)\u001b[0m Academic license - for non-commercial use only\n",
      "\rqueue length : 19, # safe domains: 1, abstract areas: [unknown:99.423% --> safe:0.577%, unsafe:0.000%, ignore:0.000%], shortest_dim:0.2549999952316284, min_area:0.002795\rqueue length : 18, # safe domains: 2, abstract areas: [unknown:98.847% --> safe:1.153%, unsafe:0.000%, ignore:0.000%], shortest_dim:0.2549999952316284, min_area:0.002795\rqueue length : 17, # safe domains: 3, abstract areas: [unknown:98.270% --> safe:1.730%, unsafe:0.000%, ignore:0.000%], shortest_dim:0.2549999952316284, min_area:0.002795\rqueue length : 16, # safe domains: 4, abstract areas: [unknown:97.692% --> safe:2.308%, unsafe:0.000%, ignore:0.000%], shortest_dim:0.2549999952316284, min_area:0.002795\rqueue length : 15, # safe domains: 5, abstract areas: [unknown:97.115% --> safe:2.885%, unsafe:0.000%, ignore:0.000%], shortest_dim:0.2549999952316284, min_area:0.002795\rqueue length : 14, # safe domains: 6, abstract areas: [unknown:96.537% --> safe:3.463%, unsafe:0.000%, ignore:0.000%], shortest_dim:0.2549999952316284, min_area:0.002795\rqueue length : 13, # safe domains: 7, abstract areas: [unknown:96.257% --> safe:3.743%, unsafe:0.000%, ignore:0.000%], shortest_dim:0.2549999952316284, min_area:0.002795\rqueue length : 12, # safe domains: 8, abstract areas: [unknown:95.978% --> safe:4.022%, unsafe:0.000%, ignore:0.000%], shortest_dim:0.2549999952316284, min_area:0.002795",
      "\rqueue length : 11, # safe domains: 9, abstract areas: [unknown:95.687% --> safe:4.313%, unsafe:0.000%, ignore:0.000%], shortest_dim:0.2549999952316284, min_area:0.002795\rqueue length : 10, # safe domains: 10, abstract areas: [unknown:95.396% --> safe:4.604%, unsafe:0.000%, ignore:0.000%], shortest_dim:0.2549999952316284, min_area:0.002795\rqueue length : 9, # safe domains: 11, abstract areas: [unknown:95.117% --> safe:4.883%, unsafe:0.000%, ignore:0.000%], shortest_dim:0.2549999952316284, min_area:0.002795\rqueue length : 8, # safe domains: 12, abstract areas: [unknown:94.837% --> safe:5.163%, unsafe:0.000%, ignore:0.000%], shortest_dim:0.2549999952316284, min_area:0.002795\rqueue length : 7, # safe domains: 13, abstract areas: [unknown:94.546% --> safe:5.454%, unsafe:0.000%, ignore:0.000%], shortest_dim:0.2549999952316284, min_area:0.002795\rqueue length : 6, # safe domains: 14, abstract areas: [unknown:94.255% --> safe:5.745%, unsafe:0.000%, ignore:0.000%], shortest_dim:0.2549999952316284, min_area:0.002795\rqueue length : 5, # safe domains: 15, abstract areas: [unknown:93.962% --> safe:6.038%, unsafe:0.000%, ignore:0.000%], shortest_dim:0.2549999952316284, min_area:0.002795\rqueue length : 4, # safe domains: 16, abstract areas: [unknown:93.669% --> safe:6.331%, unsafe:0.000%, ignore:0.000%], shortest_dim:0.2549999952316284, min_area:0.002795\rqueue length : 3, # safe domains: 17, abstract areas: [unknown:93.375% --> safe:6.625%, unsafe:0.000%, ignore:0.000%], shortest_dim:0.2549999952316284, min_area:0.002795\rqueue length : 2, # safe domains: 18, abstract areas: [unknown:93.082% --> safe:6.918%, unsafe:0.000%, ignore:0.000%], shortest_dim:0.2549999952316284, min_area:0.002795\rqueue length : 1, # safe domains: 19, abstract areas: [unknown:92.791% --> safe:7.209%, unsafe:0.000%, ignore:0.000%], shortest_dim:0.2549999952316284, min_area:0.002795\rqueue length : 0, # safe domains: 20, abstract areas: [unknown:92.500% --> safe:7.500%, unsafe:0.000%, ignore:0.000%], shortest_dim:0.2549999952316284, min_area:0.002795"
     ],
     "output_type": "stream"
    }
   ],
   "source": [
    "explorer.explore(verification_model, next_states_array, precision=1e-6, min_area=0)\n",
    "safe_next = explorer.safe_domains\n",
    "unsafe_next = explorer.unsafe_domains\n",
    "ignore_next = explorer.ignore_domains"
   ],
   "metadata": {
    "collapsed": false,
    "pycharm": {
     "name": "#%%\n",
     "is_executing": false
    }
   }
  },
  {
   "cell_type": "code",
   "execution_count": 23,
   "outputs": [],
   "source": [
    "frozen_safe = jsonpickle.encode([i for i in next_states_array])\n",
    "with open(\"../save/next_safe_domains.json\", 'w+') as f:\n",
    "    f.write(frozen_safe)\n"
   ],
   "metadata": {
    "collapsed": false,
    "pycharm": {
     "name": "#%%\n",
     "is_executing": false
    }
   }
  },
  {
   "cell_type": "code",
   "execution_count": 23,
   "outputs": [],
   "source": [
    "\n"
   ],
   "metadata": {
    "collapsed": false,
    "pycharm": {
     "name": "#%%\n",
     "is_executing": false
    }
   }
  }
 ],
 "metadata": {
  "kernelspec": {
   "display_name": "Python 3",
   "language": "python",
   "name": "python3"
  },
  "language_info": {
   "codemirror_mode": {
    "name": "ipython",
    "version": 2
   },
   "file_extension": ".py",
   "mimetype": "text/x-python",
   "name": "python",
   "nbconvert_exporter": "python",
   "pygments_lexer": "ipython2",
   "version": "2.7.6"
  },
  "pycharm": {
   "stem_cell": {
    "cell_type": "raw",
    "source": [],
    "metadata": {
     "collapsed": false
    }
   }
  }
 },
 "nbformat": 4,
 "nbformat_minor": 0
}